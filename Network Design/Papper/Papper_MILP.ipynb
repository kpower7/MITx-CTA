{
 "cells": [
  {
   "cell_type": "code",
   "execution_count": 6,
   "metadata": {},
   "outputs": [],
   "source": [
    "import pandas as pd\n",
    "import gurobipy as gp\n",
    "from gurobipy import GRB"
   ]
  },
  {
   "cell_type": "code",
   "execution_count": 7,
   "metadata": {},
   "outputs": [
    {
     "name": "stdout",
     "output_type": "stream",
     "text": [
      "            RW 1       RW 2       RW 3      RW 4       RW 5      RW 6  \\\n",
      "count   5.000000   5.000000   5.000000   5.00000   5.000000   5.00000   \n",
      "mean   83.600000  89.200000  70.200000  82.20000  82.800000  62.80000   \n",
      "std     6.913754   8.927486  14.184499  15.12283  12.153189   8.58487   \n",
      "min    73.000000  78.000000  55.000000  61.00000  62.000000  54.00000   \n",
      "25%    81.000000  82.000000  63.000000  75.00000  85.000000  58.00000   \n",
      "50%    85.000000  91.000000  69.000000  82.00000  86.000000  58.00000   \n",
      "75%    89.000000  97.000000  71.000000  95.00000  87.000000  71.00000   \n",
      "max    90.000000  98.000000  93.000000  98.00000  94.000000  73.00000   \n",
      "\n",
      "            RW 7       RW 8       RW 9  \n",
      "count   5.000000   5.000000   5.000000  \n",
      "mean   84.400000  81.800000  64.400000  \n",
      "std    13.427584  12.070626  14.570518  \n",
      "min    62.000000  72.000000  50.000000  \n",
      "25%    85.000000  73.000000  55.000000  \n",
      "50%    88.000000  75.000000  59.000000  \n",
      "75%    89.000000  90.000000  72.000000  \n",
      "max    98.000000  99.000000  86.000000  \n"
     ]
    }
   ],
   "source": [
    "# Import tables into dataframes from .txt files\n",
    "df_outbound = pd.read_csv('Papper_Data/Papper_outbound.txt', sep='\\t', index_col=0)\n",
    "df_inbound = pd.read_csv('Papper_Data/Papper_inbound.txt', sep='\\t', index_col=0)\n",
    "df_CW_costs = pd.read_csv('Papper_Data/Papper_CW_costs.txt', sep='\\t', index_col=0)\n",
    "df_plant_costs_cap = pd.read_csv('Papper_Data/Papper_plant_costs_cap.txt', sep='\\t', index_col=0)\n",
    "df_demand = pd.read_csv('Papper_Data/Papper_demand.txt', sep='\\t', index_col=0)\n",
    "\n",
    "print(df_outbound.describe())\n"
   ]
  },
  {
   "cell_type": "code",
   "execution_count": 9,
   "metadata": {},
   "outputs": [],
   "source": [
    "# Adjust any columns as necessary (here, RW5 column imported incorrectly, so was renamed)\n",
    "df_outbound = df_outbound.rename(columns={' RW 5': 'RW 5'})\n",
    "\n",
    "#Create list of plants, warehouses\n",
    "cws = df_inbound.index.tolist()\n",
    "plants = df_inbound.columns.tolist()\n",
    "rws = df_outbound.columns.tolist()"
   ]
  },
  {
   "cell_type": "code",
   "execution_count": 10,
   "metadata": {},
   "outputs": [
    {
     "name": "stdout",
     "output_type": "stream",
     "text": [
      "{'CW 1': {'RW 1': 89, 'RW 2': 78, 'RW 3': 69, 'RW 4': 95, 'RW 5': 85, 'RW 6': 73, 'RW 7': 88, 'RW 8': 73, 'RW 9': 86}, 'CW 2': {'RW 1': 90, 'RW 2': 91, 'RW 3': 63, 'RW 4': 61, 'RW 5': 94, 'RW 6': 58, 'RW 7': 89, 'RW 8': 90, 'RW 9': 55}, 'CW 3': {'RW 1': 81, 'RW 2': 82, 'RW 3': 71, 'RW 4': 98, 'RW 5': 62, 'RW 6': 71, 'RW 7': 85, 'RW 8': 75, 'RW 9': 72}, 'CW 4': {'RW 1': 73, 'RW 2': 97, 'RW 3': 55, 'RW 4': 75, 'RW 5': 86, 'RW 6': 54, 'RW 7': 62, 'RW 8': 99, 'RW 9': 59}, 'CW 5': {'RW 1': 85, 'RW 2': 98, 'RW 3': 93, 'RW 4': 82, 'RW 5': 87, 'RW 6': 58, 'RW 7': 98, 'RW 8': 72, 'RW 9': 50}}\n",
      "{'CW 1': {'Plant 1': 77, 'Plant 2': 54}, 'CW 2': {'Plant 1': 48, 'Plant 2': 33}, 'CW 3': {'Plant 1': 41, 'Plant 2': 21}, 'CW 4': {'Plant 1': 57, 'Plant 2': 94}, 'CW 5': {'Plant 1': 94, 'Plant 2': 44}}\n",
      "{'CW 1': 8, 'CW 2': 10, 'CW 3': 25, 'CW 4': 30, 'CW 5': 50}\n",
      "{'CW 1': 100000, 'CW 2': 90000, 'CW 3': 80000, 'CW 4': 70000, 'CW 5': 60000}\n",
      "{'Plant 1': 8, 'Plant 2': 13}\n",
      "{'Plant 1': 1500, 'Plant 2': 500}\n",
      "{'RW 1': 140, 'RW 2': 180, 'RW 3': 240, 'RW 4': 210, 'RW 5': 175, 'RW 6': 130, 'RW 7': 320, 'RW 8': 280, 'RW 9': 160}\n",
      "['CW 1', 'CW 2', 'CW 3', 'CW 4', 'CW 5']\n",
      "['Plant 1', 'Plant 2']\n",
      "['RW 1', 'RW 2', 'RW 3', 'RW 4', 'RW 5', 'RW 6', 'RW 7', 'RW 8', 'RW 9']\n"
     ]
    }
   ],
   "source": [
    "#create dictionaries for costs and constraints\n",
    "outbound_dict = df_outbound.to_dict(orient='index')\n",
    "inbound_dict = df_inbound.to_dict(orient='index')\n",
    "variable_cost_CW = df_CW_costs['Variable costs'].to_dict()\n",
    "fixed_cost_CW = df_CW_costs['Fixed costs'].to_dict()\n",
    "variable_cost_plant = df_plant_costs_cap['Variable costs'].to_dict()\n",
    "capacity_plant=df_plant_costs_cap['Capacity'].to_dict()\n",
    "demand_dict = df_demand['Demand'].to_dict()\n",
    "\n",
    "print(outbound_dict)\n",
    "print(inbound_dict)\n",
    "print(variable_cost_CW)\n",
    "print(fixed_cost_CW)\n",
    "print(variable_cost_plant)\n",
    "print(capacity_plant)\n",
    "print(demand_dict)\n",
    "print(cws)\n",
    "print(plants)\n",
    "print(rws)"
   ]
  },
  {
   "cell_type": "code",
   "execution_count": 11,
   "metadata": {},
   "outputs": [
    {
     "name": "stdout",
     "output_type": "stream",
     "text": [
      "Set parameter Username\n"
     ]
    },
    {
     "data": {
      "text/plain": [
       "{('Plant 1', 'CW 1'): <gurobi.Var *Awaiting Model Update*>,\n",
       " ('Plant 1', 'CW 2'): <gurobi.Var *Awaiting Model Update*>,\n",
       " ('Plant 1', 'CW 3'): <gurobi.Var *Awaiting Model Update*>,\n",
       " ('Plant 1', 'CW 4'): <gurobi.Var *Awaiting Model Update*>,\n",
       " ('Plant 1', 'CW 5'): <gurobi.Var *Awaiting Model Update*>,\n",
       " ('Plant 2', 'CW 1'): <gurobi.Var *Awaiting Model Update*>,\n",
       " ('Plant 2', 'CW 2'): <gurobi.Var *Awaiting Model Update*>,\n",
       " ('Plant 2', 'CW 3'): <gurobi.Var *Awaiting Model Update*>,\n",
       " ('Plant 2', 'CW 4'): <gurobi.Var *Awaiting Model Update*>,\n",
       " ('Plant 2', 'CW 5'): <gurobi.Var *Awaiting Model Update*>}"
      ]
     },
     "execution_count": 11,
     "metadata": {},
     "output_type": "execute_result"
    }
   ],
   "source": [
    "# Model\n",
    "model = gp.Model(\"Network Design\")\n",
    "\n",
    "# Decision variables\n",
    "inbound = model.addVars(plants, cws, vtype=GRB.INTEGER, name=f\"Inbound\")\n",
    "outbound = model.addVars(cws, rws, vtype=GRB.INTEGER, name=f\"Outbound\")\n",
    "fixed = model.addVars(cws, vtype=GRB.BINARY, name=f\"Binary\")\n",
    "inbound\n"
   ]
  },
  {
   "cell_type": "markdown",
   "metadata": {},
   "source": [
    "\n",
    "[cw, rw]: This format is used for Gurobi decision variables (e.g., outbound[cw, rw]), where the variable directly uses both indices in a tuple.\n",
    "\n",
    "[cw][rw]: This format is used for nested dictionaries (e.g., cw_rw_distances[cw][rw]), where the first key (cw) accesses a dictionary, and the second key (rw) accesses the value within that dictionary.\n"
   ]
  },
  {
   "cell_type": "code",
   "execution_count": 12,
   "metadata": {},
   "outputs": [
    {
     "data": {
      "text/plain": [
       "<gurobi.Model Continuous instance Network Design: 0 constrs, 0 vars, Parameter changes: Username=(user-defined)>"
      ]
     },
     "execution_count": 12,
     "metadata": {},
     "output_type": "execute_result"
    }
   ],
   "source": [
    "# Objective function: Minimize total cost\n",
    "model.setObjective(\n",
    "    gp.quicksum(inbound[plant, cw] * inbound_dict[cw][plant] for plant in plants for cw in cws) + #inbound shipping\n",
    "    #gp.quicksum(inbound[plant, cw] * inbound_dict[cw][plant] *0.3 for plant in plants for cw in cws) + #inbound shipping FOR PART 3, REDUCED COST\n",
    "    gp.quicksum(outbound[cw, rw] * outbound_dict[cw][rw] for cw in cws for rw in rws) +   #outbound shipping\n",
    "    gp.quicksum(inbound[plant, cw] * variable_cost_plant[plant] for plant in plants for cw in cws) +  #plant variable\n",
    "    gp.quicksum(outbound[cw, rw] * variable_cost_CW[cw] for cw in cws for rw in rws) +  #CW variable\n",
    "    gp.quicksum(fixed[cw] * fixed_cost_CW[cw] for cw in cws), #plant fixed\n",
    "    GRB.MINIMIZE\n",
    ")\n",
    "model"
   ]
  },
  {
   "cell_type": "code",
   "execution_count": 13,
   "metadata": {},
   "outputs": [],
   "source": [
    "# Set Constraints\n",
    "\n",
    "# Demand constraint\n",
    "#REMEMBER TO SET THIS AS == WHEN DEALING WITH LOS CONSTRAINT.\n",
    "for rw in rws:  \n",
    "    #model.addConstr(gp.quicksum(outbound[cw, rw] for cw in cws) >= demand_dict[rw], name=f\"Demand_Constraint_{rw}\")\n",
    "    model.addConstr(gp.quicksum(outbound[cw, rw] for cw in cws) == demand_dict[rw], name=f\"Demand_Constraint_{rw}\")  #FOR LOS CONSTRAINT\n",
    "\n",
    "# Capacity constraint\n",
    "for plant in plants:  \n",
    "    model.addConstr(gp.quicksum(inbound[plant, cw] for cw in cws) <= capacity_plant[plant], name=f\"Capacity_Constraint_{plant}\")\n",
    "\n",
    "#Conservation of flow constraint\n",
    "for cw in cws:\n",
    "    model.addConstr(gp.quicksum(inbound[plant, cw] for plant in plants) == gp.quicksum(outbound[cw, rw] for rw in rws), name=f\"Conservation_of_Flow{cw}\")\n",
    "\n",
    "#Linking constraint\n",
    "M=1000000\n",
    "for cw in cws:\n",
    "    model.addConstr(gp.quicksum(outbound[cw, rw] for rw in rws) - fixed[cw] * M <= 0, name=f\"Linking_Constraint_{cw}\")\n",
    "\n",
    "\n",
    "#Sum of Y's (open CWs)\n",
    "y_low = 1\n",
    "y_lim = 5\n",
    "model.addConstr(gp.quicksum(fixed[cw] for cw in cws) >= y_low, name=\"Min_CWs_Open\")\n",
    "model.addConstr(gp.quicksum(fixed[cw] for cw in cws) <= y_lim, name=\"Max_CWs_Open\")\n",
    "\n",
    "#If Y is open, foce it to be in use\n",
    "epsilon = 1  # Small value to ensure non-zero flow\n",
    "for cw in cws:\n",
    "    model.addConstr(gp.quicksum(outbound[cw, rw] for rw in rws) >= epsilon * fixed[cw], name=f\"OutboundActive_{cw}\")\n",
    "\n",
    "\n"
   ]
  },
  {
   "cell_type": "code",
   "execution_count": 14,
   "metadata": {},
   "outputs": [
    {
     "name": "stderr",
     "output_type": "stream",
     "text": [
      "C:\\Users\\Local User\\AppData\\Local\\Temp\\ipykernel_15024\\3350359784.py:44: FutureWarning: DataFrame.applymap has been deprecated. Use DataFrame.map instead.\n",
      "  df_Within_Range = df_outbound.applymap(lambda x: Range_Condition(x, max_distance))\n"
     ]
    }
   ],
   "source": [
    "#Level of Service Constraints\n",
    "#MAX DISTANCE FROM DC TO CUSTOMER -----------------------------------------------------------------\n",
    "def Max_Distance_Condition(value):\n",
    "    range = 60 #<-------------------- CHANGE THIS AS YOUR RANGE CONDITION\n",
    "    if value > range:\n",
    "        return 10000\n",
    "    else:\n",
    "        return value\n",
    "    \n",
    "# df_Max_Distance = df_outbound.applymap(Max_Distance_Condition)\n",
    "# df_Max_Distance\n",
    "\n",
    "#% CUSTOMER WITHIN RANGE OF DC -----------------------------------------------------------------\n",
    "def Range_Condition(value, max_distance):\n",
    "    if value > max_distance:\n",
    "        return 0\n",
    "    else:\n",
    "        return 1\n",
    "\n",
    "# df_Within_Range = df_outbound.applymap(Range_Condition)\n",
    "# df_Within_Range\n",
    "\n",
    "def apply_individual_los_constraints(model, df_outbound, outbound, demand_dict, rws, max_distance=70, percentage=0.6):\n",
    "    # Create df_Within_Range inside this function using the updated max_distance\n",
    "    df_Within_Range = df_outbound.applymap(lambda x: Range_Condition(x, max_distance))\n",
    "\n",
    "    # Apply the LOS constraint using df_Within_Range\n",
    "    for rw in rws:\n",
    "        total_demand_rw = demand_dict[rw]  # Total demand for RW\n",
    "        required_supply_within_range = percentage * total_demand_rw  # Required supply within range\n",
    "\n",
    "        # Calculate supply from within range\n",
    "        supply_from_within_range = gp.quicksum(outbound[cw, rw] * df_Within_Range.loc[cw, rw] for cw in cws)\n",
    "        \n",
    "        # Add constraint to the model ensuring at least the required percentage of demand is met from within the specified distance\n",
    "        model.addConstr(supply_from_within_range >= required_supply_within_range, name=f\"LOS_Constraint_{rw}\")\n",
    "\n",
    "\n",
    "\n",
    "#AGGREGATE LOS CONSTRAINT... ALL DEMAND TOTAL HAS TO BE 70% SATISFIED FROM WITHIN 70 MILES ----------------------->\n",
    "##IMPORTANT#### ------------------------------------------------------> REMEMBE TO CHANGE DEMAND = IN THIS SCENARIO, OR DEMAND MAY BE OVERSUPPLIED. \n",
    "def apply_aggregate_los_constraint(model, df_outbound, outbound, demand_dict, cws, rws, max_distance=70, overall_percentage=0.7):\n",
    "    # Create a DataFrame for within range based on max_distance\n",
    "    df_Within_Range = df_outbound.applymap(lambda x: Range_Condition(x, max_distance))\n",
    "\n",
    "    # Calculate the total demand across all RWs\n",
    "    total_demand_all_rws = sum(demand_dict[rw] for rw in rws)\n",
    "\n",
    "    # Calculate the total required supply within range for all RWs combined\n",
    "    total_required_supply_within_range = overall_percentage * total_demand_all_rws\n",
    "\n",
    "    # Sum the supplies from all CWs within 70 miles across all RWs and set the constraint\n",
    "    model.addConstr(\n",
    "        gp.quicksum(outbound[cw, rw] * df_Within_Range.loc[cw, rw] for cw in cws for rw in rws) >= total_required_supply_within_range,\n",
    "        name=\"Aggregate_LOS_Constraint\"\n",
    "    )\n",
    "\n",
    "\n",
    "def apply_maximum_distance_constraint(model, outbound, cws, rws, max_distance):\n",
    "     '''\n",
    "          Add constraints to the model to ensure deliveries only occur within the maximum allowed distance. \n",
    "\n",
    "     '''\n",
    "     # Create a DataFrame for within range based on max_distance\n",
    "     df_Within_Range = df_outbound.applymap(lambda x: Range_Condition(x, max_distance))\n",
    "     for rw in rws:\n",
    "        for cw in cws:\n",
    "            # Add constraint: outbound[cw, rw] must be zero if the distance is not acceptable\n",
    "            model.addConstr(outbound[cw, rw] * df_Within_Range.loc[cw, rw] == outbound[cw, rw], name=f\"MaxDist_{cw}_{rw}\")\n",
    "\n",
    "\n",
    "#apply_maximum_distance_constraint(model, outbound, cws, rws, max_distance=1000)\n",
    "apply_aggregate_los_constraint(model, df_outbound, outbound, demand_dict, cws, rws, max_distance=70, overall_percentage=0.6)\n",
    "#apply_individual_los_constraints(model, df_outbound, outbound, demand_dict, rws, max_distance=80, percentage=0.6)\n",
    "\n"
   ]
  },
  {
   "cell_type": "code",
   "execution_count": 15,
   "metadata": {},
   "outputs": [
    {
     "name": "stdout",
     "output_type": "stream",
     "text": [
      "Gurobi Optimizer version 11.0.3 build v11.0.3rc0 (win64 - Windows 10.0 (19045.2))\n",
      "\n",
      "CPU model: Intel(R) Core(TM) i7-6700HQ CPU @ 2.60GHz, instruction set [SSE2|AVX|AVX2]\n",
      "Thread count: 4 physical cores, 8 logical processors, using up to 8 threads\n",
      "\n",
      "Optimize a model with 29 rows, 60 columns and 232 nonzeros\n",
      "Model fingerprint: 0x5d01ce29\n",
      "Variable types: 0 continuous, 60 integer (5 binary)\n",
      "Coefficient statistics:\n",
      "  Matrix range     [1e+00, 1e+06]\n",
      "  Objective range  [3e+01, 1e+05]\n",
      "  Bounds range     [1e+00, 1e+00]\n",
      "  RHS range        [1e+00, 2e+03]\n",
      "Found heuristic solution: objective 680207.00000\n",
      "Presolve removed 8 rows and 3 columns\n",
      "Presolve time: 0.01s\n",
      "Presolved: 21 rows, 57 columns, 162 nonzeros\n",
      "Variable types: 0 continuous, 57 integer (2 binary)\n",
      "Found heuristic solution: objective 680165.00000\n",
      "\n",
      "Root relaxation: objective 4.908820e+05, 22 iterations, 0.00 seconds (0.00 work units)\n",
      "\n",
      "    Nodes    |    Current Node    |     Objective Bounds      |     Work\n",
      " Expl Unexpl |  Obj  Depth IntInf | Incumbent    BestBd   Gap | It/Node Time\n",
      "\n",
      "*    0     0               0    490882.00000 490882.000  0.00%     -    0s\n",
      "\n",
      "Explored 1 nodes (22 simplex iterations) in 0.09 seconds (0.00 work units)\n",
      "Thread count was 8 (of 8 available processors)\n",
      "\n",
      "Solution count 3: 490882 680165 680207 \n",
      "\n",
      "Optimal solution found (tolerance 1.00e-04)\n",
      "Best objective 4.908820000000e+05, best bound 4.908820000000e+05, gap 0.0000%\n"
     ]
    }
   ],
   "source": [
    "model.optimize()"
   ]
  },
  {
   "cell_type": "code",
   "execution_count": 16,
   "metadata": {},
   "outputs": [
    {
     "name": "stdout",
     "output_type": "stream",
     "text": [
      "Status: Optimal\n",
      "Total Cost: 490882.0\n",
      "\n",
      "Retail Warehouse     Demanded   Delivered \n",
      "----------------------------------------\n",
      "RW 1                 140        140.00    \n",
      "RW 2                 180        180.00    \n",
      "RW 3                 240        240.00    \n",
      "RW 4                 210        210.00    \n",
      "RW 5                 175        175.00    \n",
      "RW 6                 130        130.00    \n",
      "RW 7                 320        320.00    \n",
      "RW 8                 280        280.00    \n",
      "RW 9                 160        160.00    \n",
      "\n",
      "Decision Variable Values (non-zero):\n",
      "Variable             Value     \n",
      "------------------------------\n",
      "Inbound[Plant 1,CW 2] 874.00    \n",
      "Inbound[Plant 1,CW 3] 275.00    \n",
      "Inbound[Plant 1,CW 4] 186.00    \n",
      "Inbound[Plant 2,CW 3] 500.00    \n",
      "Outbound[CW 2,RW 3]  240.00    \n",
      "Outbound[CW 2,RW 4]  210.00    \n",
      "Outbound[CW 2,RW 6]  130.00    \n",
      "Outbound[CW 2,RW 7]  134.00    \n",
      "Outbound[CW 2,RW 9]  160.00    \n",
      "Outbound[CW 3,RW 1]  140.00    \n",
      "Outbound[CW 3,RW 2]  180.00    \n",
      "Outbound[CW 3,RW 5]  175.00    \n",
      "Outbound[CW 3,RW 8]  280.00    \n",
      "Outbound[CW 4,RW 7]  186.00    \n",
      "Binary[CW 2]         1.00      \n",
      "Binary[CW 3]         1.00      \n",
      "Binary[CW 4]         1.00      \n"
     ]
    }
   ],
   "source": [
    "if model.status == GRB.OPTIMAL:\n",
    "    print(f\"Status: Optimal\")\n",
    "    print(f\"Total Cost: {model.objVal}\\n\")\n",
    "    print(f\"{'Retail Warehouse':<20} {'Demanded':<10} {'Delivered':<10}\")\n",
    "    print(\"-\" * 40)\n",
    "\n",
    "    for rw in rws:\n",
    "        demanded = demand_dict[rw]\n",
    "        delivered = sum(outbound[cw, rw].X for cw in cws if outbound[cw, rw].X > 0)  # Sum only non-zero deliveries\n",
    "        print(f\"{rw:<20} {demanded:<10} {delivered:<10.2f}\")\n",
    "\n",
    "    print(\"\\nDecision Variable Values (non-zero):\")\n",
    "    print(f\"{'Variable':<20} {'Value':<10}\")\n",
    "    print(\"-\" * 30)\n",
    "    \n",
    "    for v in model.getVars():\n",
    "        if v.X != 0:  # Print only non-zero variables\n",
    "            print(f\"{v.varName:<20} {v.X:<10.2f}\")\n",
    "\n",
    "else:\n",
    "    print(f\"Status: {model.status}\")\n",
    "\n"
   ]
  },
  {
   "cell_type": "code",
   "execution_count": 17,
   "metadata": {},
   "outputs": [
    {
     "name": "stdout",
     "output_type": "stream",
     "text": [
      "inbound shipping:  74329.0\n",
      "outbound shipping:  125678.0\n",
      "plant variable:  17180.0\n",
      "cw variable:  33695.0\n",
      "plant fixed:  240000.0\n"
     ]
    }
   ],
   "source": [
    "print('inbound shipping: ', gp.quicksum(inbound[plant, cw] * inbound_dict[cw][plant] for plant in plants for cw in cws).getValue())\n",
    "print('outbound shipping: ', gp.quicksum(outbound[cw, rw] * outbound_dict[cw][rw] for cw in cws for rw in rws).getValue())\n",
    "print('plant variable: ', gp.quicksum(inbound[plant, cw] * variable_cost_plant[plant] for plant in plants for cw in cws).getValue())\n",
    "print('cw variable: ', gp.quicksum(outbound[cw, rw] * variable_cost_CW[cw] for cw in cws for rw in rws).getValue())\n",
    "print('plant fixed: ', gp.quicksum(fixed[cw] * fixed_cost_CW[cw] for cw in cws).getValue())"
   ]
  }
 ],
 "metadata": {
  "kernelspec": {
   "display_name": "Python 3",
   "language": "python",
   "name": "python3"
  },
  "language_info": {
   "codemirror_mode": {
    "name": "ipython",
    "version": 3
   },
   "file_extension": ".py",
   "mimetype": "text/x-python",
   "name": "python",
   "nbconvert_exporter": "python",
   "pygments_lexer": "ipython3",
   "version": "3.12.2"
  }
 },
 "nbformat": 4,
 "nbformat_minor": 2
}
