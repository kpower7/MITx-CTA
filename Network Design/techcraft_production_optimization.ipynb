{
 "cells": [
  {
   "cell_type": "markdown",
   "metadata": {},
   "source": [
    "# TechCraft Gaming PC Production Optimization\n",
    "\n",
    "## Problem Statement\n",
    "TechCraft builds custom gaming PCs for North American customers. Their flagship product is a high-end gaming rig that customers can customize with different GPUs, cooling systems, and RGB lighting.\n",
    "\n",
    "The operations team needs to determine the optimal production plan for next month across their facilities:\n",
    "- Primary facilities:\n",
    "  * Taiwan facility (T1)\n",
    "  * Mexico facility (M1)\n",
    "  * California facility (C)\n",
    "- Optional facilities that can be repurposed:\n",
    "  * Taiwan second line (T2)\n",
    "  * Mexico second line (M2)\n",
    "\n",
    "### Key Constraints:\n",
    "- All primary production lines must be used\n",
    "- Only one additional line can be repurposed (due to quality control limitations)\n",
    "- Demand must be met exactly (no partial units)\n",
    "- Distribution to two warehouses: Las Vegas (WH1) and Denver (WH2)\n",
    "\n",
    "### Expected Demand:\n",
    "- Las Vegas (WH1): 5,500 units\n",
    "- Denver (WH2): 4,800 units\n",
    "\n",
    "### Profit per Unit ($):\n",
    "| Production Line | Las Vegas (WH1) | Denver (WH2) |\n",
    "|----------------|-----------------|---------------|\n",
    "| Taiwan (T1)    | 450             | 380          |\n",
    "| Mexico (M1)    | 420             | 400          |\n",
    "| California (C) | 380             | 350          |\n",
    "| Taiwan 2 (T2)  | 400             | 340          |\n",
    "| Mexico 2 (M2)  | 380             | 360          |\n",
    "\n",
    "---"
   ]
  },
  {
   "cell_type": "code",
   "execution_count": null,
   "metadata": {},
   "source": [
    "# Required package installations (uncomment if needed)\n",
    "# !pip install pulp\n",
    "# !pip install numpy\n",
    "# !pip install pandas\n",
    "\n",
    "import pulp\n",
    "import numpy as np\n",
    "import pandas as pd"
   ]
  },
  {
   "cell_type": "markdown",
   "metadata": {},
   "source": [
    "## Step 1: Define the Linear Programming Problem"
   ]
  },
  {
   "cell_type": "code",
   "execution_count": null,
   "metadata": {},
   "source": [
    "# Create the optimization model\n",
    "model = pulp.LpProblem(\"TechCraft_Production_Optimization\", pulp.LpMaximize)\n",
    "\n",
    "# Define production lines and warehouses\n",
    "production_lines = ['T1', 'M1', 'C', 'T2', 'M2']\n",
    "warehouses = ['WH1', 'WH2']\n",
    "\n",
    "# Define profits\n",
    "profits = {\n",
    "    ('T1', 'WH1'): 450, ('T1', 'WH2'): 380,\n",
    "    ('M1', 'WH1'): 420, ('M1', 'WH2'): 400,\n",
    "    ('C', 'WH1'): 380, ('C', 'WH2'): 350,\n",
    "    ('T2', 'WH1'): 400, ('T2', 'WH2'): 340,\n",
    "    ('M2', 'WH1'): 380, ('M2', 'WH2'): 360\n",
    "}\n",
    "\n",
    "# Decision variables\n",
    "vars = pulp.LpVariable.dicts(\"Units\",\n",
    "                            ((i, j) for i in production_lines for j in warehouses),\n",
    "                            lowBound=0,\n",
    "                            cat='Integer')\n",
    "\n",
    "# Binary variables for optional production lines\n",
    "use_line = pulp.LpVariable.dicts(\"UseLine\",\n",
    "                                ['T2', 'M2'],\n",
    "                                cat='Binary')\n",
    "\n",
    "# Objective function\n",
    "model += pulp.lpSum(vars[i,j] * profits[i,j] for i in production_lines for j in warehouses)\n",
    "\n",
    "# Demand constraints\n",
    "model += pulp.lpSum(vars[i,'WH1'] for i in production_lines) == 5500  # Las Vegas demand\n",
    "model += pulp.lpSum(vars[i,'WH2'] for i in production_lines) == 4800  # Denver demand\n",
    "\n",
    "# Only one optional line can be used\n",
    "model += use_line['T2'] + use_line['M2'] <= 1\n",
    "\n",
    "# Link optional lines to their usage\n",
    "M = 10000  # Big M constant\n",
    "for j in warehouses:\n",
    "    model += vars['T2',j] <= M * use_line['T2']\n",
    "    model += vars['M2',j] <= M * use_line['M2']\n",
    "\n",
    "# Solve the model\n",
    "model.solve()\n",
    "\n",
    "print(f\"Status: {pulp.LpStatus[model.status]}\")"
   ]
  },
  {
   "cell_type": "markdown",
   "metadata": {},
   "source": [
    "## Step 2: Analyze Results"
   ]
  },
  {
   "cell_type": "code",
   "execution_count": null,
   "metadata": {},
   "source": [
    "# Create results dataframe\n",
    "results = []\n",
    "for i in production_lines:\n",
    "    for j in warehouses:\n",
    "        if vars[i,j].value() > 0:\n",
    "            results.append({\n",
    "                'Production Line': i,\n",
    "                'Warehouse': j,\n",
    "                'Units': int(vars[i,j].value()),\n",
    "                'Profit per Unit': profits[i,j],\n",
    "                'Total Profit': int(vars[i,j].value() * profits[i,j])\n",
    "            })\n",
    "\n",
    "df_results = pd.DataFrame(results)\n",
    "print(\"Production Plan:\")\n",
    "print(df_results)\n",
    "\n",
    "print(f\"\\nTotal Profit: ${pulp.value(model.objective):,.2f}\")\n",
    "\n",
    "# Show which optional line was used\n",
    "print(\"\\nOptional Lines Used:\")\n",
    "for line in ['T2', 'M2']:\n",
    "    if use_line[line].value() == 1:\n",
    "        print(f\"- {line} is active\")"
   ]
  },
  {
   "cell_type": "markdown",
   "metadata": {},
   "source": [
    "## Step 3: Verify Constraints"
   ]
  },
  {
   "cell_type": "code",
   "execution_count": null,
   "metadata": {},
   "source": [
    "# Verify warehouse demands are met\n",
    "wh_totals = df_results.groupby('Warehouse')['Units'].sum()\n",
    "print(\"Warehouse Demand Verification:\")\n",
    "print(f\"WH1 (Las Vegas): {wh_totals['WH1']:,} units (Target: 5,500)\")\n",
    "print(f\"WH2 (Denver): {wh_totals['WH2']:,} units (Target: 4,800)\")\n",
    "\n",
    "# Verify optional line constraint\n",
    "optional_lines_used = sum(use_line[line].value() for line in ['T2', 'M2'])\n",
    "print(f\"\\nOptional lines used: {optional_lines_used} (Maximum: 1)\")"
   ]
  },
  {
   "cell_type": "markdown",
   "metadata": {},
   "source": [
    "## Conclusions\n",
    "\n",
    "The optimization model has determined:\n",
    "\n",
    "1. **Optimal Production Plan:** [Will be filled after running]\n",
    "2. **Maximum Profit:** [Will be filled after running]\n",
    "3. **Optional Line Usage:** [Will be filled after running]\n",
    "\n",
    "This solution:\n",
    "- Meets exact demand for both warehouses\n",
    "- Uses primary production lines efficiently\n",
    "- Respects the constraint of using at most one optional line\n",
    "- Maximizes total profit while satisfying all constraints"
   ]
  }
 ],
 "metadata": {
  "kernelspec": {
   "display_name": "Python 3",
   "language": "python",
   "name": "python3"
  },
  "language_info": {
   "codemirror_mode": {
    "name": "ipython",
    "version": 3
   },
   "file_extension": ".py",
   "mimetype": "text/x-python",
   "name": "python",
   "nbconvert_exporter": "python",
   "pygments_lexer": "ipython3",
   "version": "3.8.0"
  }
 },
 "nbformat": 4,
 "nbformat_minor": 4
}
