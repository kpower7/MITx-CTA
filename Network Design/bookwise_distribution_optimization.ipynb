{
 "cells": [
  {
   "cell_type": "markdown",
   "metadata": {},
   "source": [
    "# BookWise Distribution Center Optimization\n",
    "\n",
    "## Problem Statement\n",
    "BookWise Publishing is expanding their textbook distribution network in the Pacific Northwest. They need to optimize their warehouse locations to better serve their three main university bookstore partners. Management has approved opening 2-3 new distribution centers (DCs) from among 5 potential locations.\n",
    "\n",
    "### Requirements:\n",
    "- Must open at least 2 and at most 3 DCs\n",
    "- Combined storage capacity must be at least 850,000 textbooks\n",
    "- Each DC will make 40 shipments per year to each university bookstore\n",
    "\n",
    "### Distribution Center Data:\n",
    "| DC | Fixed Cost ($/year) | Transport Cost ($/km/shipment) | Capacity (1000 books) |\n",
    "|----|--------------------|-------------------------------|---------------------|\n",
    "| DC1| 85,000            | 0.55                          | 410                |\n",
    "| DC2| 85,000            | 0.35                          | 380                |\n",
    "| DC3| 75,000            | 0.65                          | 330                |\n",
    "| DC4| 75,000            | 0.45                          | 380                |\n",
    "| DC5| 85,000            | 0.25                          | 340                |\n",
    "\n",
    "### Distance to University Bookstores (km):\n",
    "| DC | Bookstore 1 | Bookstore 2 | Bookstore 3 |\n",
    "|----|-------------|-------------|-------------|\n",
    "| DC1| 70         | 110         | 65          |\n",
    "| DC2| 50         | 135         | 80          |\n",
    "| DC3| 60         | 115         | 85          |\n",
    "| DC4| 55         | 90          | 95          |\n",
    "| DC5| 95         | 65          | 85          |\n",
    "\n",
    "---"
   ]
  },
  {
   "cell_type": "code",
   "execution_count": 3,
   "metadata": {},
   "outputs": [],
   "source": [
    "# Required package installations (uncomment if needed)\n",
    "# !pip install pulp\n",
    "# !pip install numpy\n",
    "# !pip install pandas\n",
    "\n",
    "import pulp\n",
    "import numpy as np\n",
    "import pandas as pd"
   ]
  },
  {
   "cell_type": "markdown",
   "metadata": {},
   "source": [
    "## Step 1: Set up the Linear Programming Problem"
   ]
  },
  {
   "cell_type": "code",
   "execution_count": 4,
   "metadata": {},
   "outputs": [
    {
     "name": "stdout",
     "output_type": "stream",
     "text": [
      "Status: Optimal\n"
     ]
    }
   ],
   "source": [
    "# Create the model\n",
    "model = pulp.LpProblem(\"BookWise_DC_Optimization\", pulp.LpMinimize)\n",
    "\n",
    "# Decision variables (1 if DC is opened, 0 if not)\n",
    "dc_vars = pulp.LpVariable.dicts(\"DC\", range(1,6), cat='Binary')\n",
    "\n",
    "# Data\n",
    "fixed_costs = [85000, 85000, 75000, 75000, 85000]\n",
    "capacities = [410, 380, 330, 380, 340]\n",
    "transport_costs = [0.55, 0.35, 0.65, 0.45, 0.25]\n",
    "\n",
    "distances = [\n",
    "    [70, 110, 65],  # DC1\n",
    "    [50, 135, 80],  # DC2\n",
    "    [60, 115, 85],  # DC3\n",
    "    [55, 90, 95],   # DC4\n",
    "    [95, 65, 85]    # DC5\n",
    "]\n",
    "\n",
    "# Calculate total transport cost for each DC\n",
    "transport_total = []\n",
    "for i in range(5):\n",
    "    dc_transport = sum(distances[i][j] * transport_costs[i] * 40 for j in range(3))\n",
    "    transport_total.append(dc_transport)\n",
    "\n",
    "# Objective function\n",
    "model += pulp.lpSum((fixed_costs[i] + transport_total[i]) * dc_vars[i+1] for i in range(5))\n",
    "\n",
    "# Constraints\n",
    "# Minimum capacity\n",
    "model += pulp.lpSum(capacities[i] * dc_vars[i+1] for i in range(5)) >= 850\n",
    "\n",
    "# Number of DCs constraint\n",
    "model += pulp.lpSum(dc_vars[i+1] for i in range(5)) >= 2\n",
    "model += pulp.lpSum(dc_vars[i+1] for i in range(5)) <= 3\n",
    "\n",
    "# Solve the model\n",
    "model.solve()\n",
    "\n",
    "print(\"Status:\", pulp.LpStatus[model.status])"
   ]
  },
  {
   "cell_type": "markdown",
   "metadata": {},
   "source": [
    "## Step 2: Analyze Results"
   ]
  },
  {
   "cell_type": "code",
   "execution_count": 5,
   "metadata": {},
   "outputs": [
    {
     "name": "stdout",
     "output_type": "stream",
     "text": [
      "\n",
      "Selected Distribution Centers:\n",
      "DC3\n",
      "DC4\n",
      "DC5\n",
      "\n",
      "Total Annual Cost: $248,530.00\n",
      "Total Capacity: 1,050 thousand books\n"
     ]
    }
   ],
   "source": [
    "# Print selected DCs\n",
    "print(\"\\nSelected Distribution Centers:\")\n",
    "selected_dcs = []\n",
    "for i in range(5):\n",
    "    if dc_vars[i+1].value() == 1:\n",
    "        selected_dcs.append(i+1)\n",
    "        print(f\"DC{i+1}\")\n",
    "\n",
    "# Calculate total cost\n",
    "total_cost = pulp.value(model.objective)\n",
    "print(f\"\\nTotal Annual Cost: ${total_cost:,.2f}\")\n",
    "\n",
    "# Calculate capacity\n",
    "total_capacity = sum(capacities[i] for i in range(5) if dc_vars[i+1].value() == 1)\n",
    "print(f\"Total Capacity: {total_capacity:,} thousand books\")"
   ]
  },
  {
   "cell_type": "markdown",
   "metadata": {},
   "source": [
    "## Step 3: Cost Breakdown"
   ]
  },
  {
   "cell_type": "code",
   "execution_count": 6,
   "metadata": {},
   "outputs": [
    {
     "name": "stdout",
     "output_type": "stream",
     "text": [
      "Cost Breakdown for Selected DCs:\n",
      "\n",
      "DC3:\n",
      "Fixed Cost: $75,000.00\n",
      "Transport Cost: $6,760.00\n",
      "Total Cost: $81,760.00\n",
      "\n",
      "DC4:\n",
      "Fixed Cost: $75,000.00\n",
      "Transport Cost: $4,320.00\n",
      "Total Cost: $79,320.00\n",
      "\n",
      "DC5:\n",
      "Fixed Cost: $85,000.00\n",
      "Transport Cost: $2,450.00\n",
      "Total Cost: $87,450.00\n"
     ]
    }
   ],
   "source": [
    "print(\"Cost Breakdown for Selected DCs:\")\n",
    "for dc in selected_dcs:\n",
    "    i = dc - 1\n",
    "    fixed = fixed_costs[i]\n",
    "    transport = transport_total[i]\n",
    "    print(f\"\\nDC{dc}:\")\n",
    "    print(f\"Fixed Cost: ${fixed:,.2f}\")\n",
    "    print(f\"Transport Cost: ${transport:,.2f}\")\n",
    "    print(f\"Total Cost: ${(fixed + transport):,.2f}\")"
   ]
  },
  {
   "cell_type": "markdown",
   "metadata": {},
   "source": [
    "## Conclusions\n",
    "\n",
    "The optimization model has determined:\n",
    "\n",
    "1. **Optimal DC Locations:** [Will be filled in after running]\n",
    "2. **Total Annual Cost:** [Will be filled in after running]\n",
    "3. **Total Capacity:** [Will be filled in after running]\n",
    "\n",
    "This solution:\n",
    "- Meets the minimum capacity requirement of 850,000 books\n",
    "- Satisfies the constraint of opening 2-3 DCs\n",
    "- Minimizes the combined fixed and transportation costs\n",
    "\n",
    "The selected configuration provides the most cost-effective way to serve all three university bookstores while meeting all operational constraints."
   ]
  }
 ],
 "metadata": {
  "kernelspec": {
   "display_name": "base",
   "language": "python",
   "name": "python3"
  },
  "language_info": {
   "codemirror_mode": {
    "name": "ipython",
    "version": 3
   },
   "file_extension": ".py",
   "mimetype": "text/x-python",
   "name": "python",
   "nbconvert_exporter": "python",
   "pygments_lexer": "ipython3",
   "version": "3.12.4"
  }
 },
 "nbformat": 4,
 "nbformat_minor": 4
}
