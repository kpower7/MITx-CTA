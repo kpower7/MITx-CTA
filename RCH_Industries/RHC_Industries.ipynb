{
 "cells": [
  {
   "cell_type": "code",
   "execution_count": 1,
   "metadata": {},
   "outputs": [],
   "source": [
    "import pandas as pd\n",
    "import pulp"
   ]
  },
  {
   "cell_type": "code",
   "execution_count": 2,
   "metadata": {},
   "outputs": [],
   "source": [
    "# Create dictionaries for costs and constraints\n",
    "inbound_dict = {'Stylish':{'Factory 1':{'Crossdock 1':30, 'Crossdock 2':50} ,\n",
    "                'Factory 2':{'Crossdock 1':23, 'Crossdock 2':66},\n",
    "                'Factory 3':{'Crossdock 1':35, 'Crossdock 2':14} ,\n",
    "                'Factory 4':{'Crossdock 1':70, 'Crossdock 2':12} ,\n",
    "                'Factory 5':{'Crossdock 1':65, 'Crossdock 2':70}},\n",
    "                'Leisure':{'Factory 1':{'Crossdock 1':33, 'Crossdock 2':55} ,\n",
    "                'Factory 2':{'Crossdock 1':25, 'Crossdock 2':73},\n",
    "                'Factory 3':{'Crossdock 1':39, 'Crossdock 2':15} ,\n",
    "                'Factory 4':{'Crossdock 1':77, 'Crossdock 2':13} ,\n",
    "                'Factory 5':{'Crossdock 1':12, 'Crossdock 2':14}}\n",
    "}"
   ]
  },
  {
   "cell_type": "code",
   "execution_count": 3,
   "metadata": {},
   "outputs": [],
   "source": [
    "outbound_dict = {'Stylish':{'Crossdock 1':{'DC1':12, 'DC2':25, 'DC3':22, 'DC4':40, 'DC5':41} ,\n",
    "                'Crossdock 2':{'DC1':65, 'DC2':22, 'DC3':23, 'DC4':12, 'DC5':15} } ,\n",
    "                'Leisure':{'Crossdock 1':{'DC1':13, 'DC2':28, 'DC3':24, 'DC4':44, 'DC5':45} ,\n",
    "                'Crossdock 2':{'DC1':72, 'DC2':24, 'DC3':25, 'DC4':13, 'DC5':17} } ,\n",
    "}"
   ]
  },
  {
   "cell_type": "code",
   "execution_count": 4,
   "metadata": {},
   "outputs": [],
   "source": [
    "demand_dict = {'Stylish':{'DC1':130, 'DC2':45, 'DC3':70, 'DC4':100, 'DC5':5} ,\n",
    "                'Leisure':{'DC1':15, 'DC2':45, 'DC3':40, 'DC4':100, 'DC5':175}\n",
    "}"
   ]
  },
  {
   "cell_type": "code",
   "execution_count": 5,
   "metadata": {},
   "outputs": [],
   "source": [
    "capacity_dict = {'Stylish':{'Factory 1':150, 'Factory 2': 300, 'Factory 3':90, 'Factory 4':140, 'Factory 5':220} ,\n",
    "            'Leisure':{'Factory 1':200, 'Factory 2': 300, 'Factory 3':70, 'Factory 4':30, 'Factory 5':220} ,\n",
    "            'Combined':{'Factory 1':200, 'Factory 2': 300, 'Factory 3':100, 'Factory 4':150, 'Factory 5':220}\n",
    "}"
   ]
  },
  {
   "cell_type": "code",
   "execution_count": 6,
   "metadata": {},
   "outputs": [],
   "source": [
    "# Create list of factory, CDs, and DCs\n",
    "factories = ['Factory 1', 'Factory 2', 'Factory 3', 'Factory 4', 'Factory 5']\n",
    "CDs = ['Crossdock 1', 'Crossdock 2']\n",
    "DCs = ['DC1', 'DC2', 'DC3', 'DC4', 'DC5']\n",
    "Styles = ['Stylish', 'Leisure']  #, 'Combined'"
   ]
  },
  {
   "cell_type": "code",
   "execution_count": 7,
   "metadata": {},
   "outputs": [
    {
     "name": "stderr",
     "output_type": "stream",
     "text": [
      "c:\\Users\\Local User\\AppData\\Local\\Programs\\Python\\Python312\\Lib\\site-packages\\pulp\\pulp.py:1352: UserWarning: Spaces are not permitted in the name. Converted to '_'\n",
      "  warnings.warn(\"Spaces are not permitted in the name. Converted to '_'\")\n"
     ]
    }
   ],
   "source": [
    "# Model\n",
    "model = pulp.LpProblem(\"Network Design\", pulp.LpMinimize)"
   ]
  },
  {
   "cell_type": "code",
   "execution_count": 8,
   "metadata": {},
   "outputs": [],
   "source": [
    "# Decision variables\n",
    "inbound = pulp.LpVariable.dicts(\"Inbound\", (Styles, factories, CDs), lowBound=0, cat='Integer')\n",
    "outbound = pulp.LpVariable.dicts(\"Outbound\", (Styles, CDs, DCs), lowBound=0, cat='Integer')\n"
   ]
  },
  {
   "cell_type": "code",
   "execution_count": 9,
   "metadata": {},
   "outputs": [],
   "source": [
    "# Objective function: Minimize total cost\n",
    "model += pulp.lpSum(inbound[Style][factory][CD] * inbound_dict[Style][factory][CD] \n",
    "                    for Style in Styles for factory in factories for CD in CDs) + \\\n",
    "         pulp.lpSum(outbound[Style][CD][DC] * outbound_dict[Style][CD][DC] \n",
    "                    for Style in Styles for CD in CDs for DC in DCs)"
   ]
  },
  {
   "cell_type": "code",
   "execution_count": 10,
   "metadata": {},
   "outputs": [],
   "source": [
    "# Demand constraint\n",
    "for Style in Styles:  \n",
    "    for DC in DCs:\n",
    "        constraint_name = f\"Demand_Constraint_{Style}_{DC}\"\n",
    "        model += pulp.lpSum(outbound[Style][CD][DC] for CD in CDs) >= demand_dict[Style][DC], constraint_name\n"
   ]
  },
  {
   "cell_type": "code",
   "execution_count": 11,
   "metadata": {},
   "outputs": [],
   "source": [
    "# Combined capacity constraint\n",
    "for factory in factories:\n",
    "    constraint_name = f\"Capacity_Constraint_Combined_{factory}\"\n",
    "    model += pulp.lpSum(inbound[Style][factory][CD] for Style in Styles for CD in CDs) <= capacity_dict['Combined'][factory], constraint_name\n"
   ]
  },
  {
   "cell_type": "code",
   "execution_count": 12,
   "metadata": {},
   "outputs": [],
   "source": [
    "# Conservation of flow constraint\n",
    "for Style in Styles:\n",
    "    for CD in CDs:\n",
    "        constraint_name = f\"CoF_Constraint_{Style}_{CD}\"\n",
    "        model += pulp.lpSum(inbound[Style][factory][CD] for factory in factories) == \\\n",
    "                 pulp.lpSum(outbound[Style][CD][DC] for DC in DCs), constraint_name\n"
   ]
  },
  {
   "cell_type": "code",
   "execution_count": 13,
   "metadata": {},
   "outputs": [
    {
     "data": {
      "text/plain": [
       "1"
      ]
     },
     "execution_count": 13,
     "metadata": {},
     "output_type": "execute_result"
    }
   ],
   "source": [
    "# Solve the model\n",
    "model.solve()"
   ]
  },
  {
   "cell_type": "code",
   "execution_count": 14,
   "metadata": {},
   "outputs": [
    {
     "name": "stdout",
     "output_type": "stream",
     "text": [
      "Status: Optimal\n",
      "Total Cost: 24230.0\n",
      "\n",
      "----------------------------------------\n",
      "\n",
      "Decision Variable Values (non-zero):\n",
      "Inbound_Leisure_Factory_2_Crossdock_1 = 55.0\n",
      "Inbound_Leisure_Factory_3_Crossdock_2 = 100.0\n",
      "Inbound_Leisure_Factory_5_Crossdock_2 = 220.0\n",
      "Inbound_Stylish_Factory_2_Crossdock_1 = 200.0\n",
      "Inbound_Stylish_Factory_4_Crossdock_2 = 150.0\n",
      "Outbound_Leisure_Crossdock_1_DC1 = 15.0\n",
      "Outbound_Leisure_Crossdock_1_DC3 = 40.0\n",
      "Outbound_Leisure_Crossdock_2_DC2 = 45.0\n",
      "Outbound_Leisure_Crossdock_2_DC4 = 100.0\n",
      "Outbound_Leisure_Crossdock_2_DC5 = 175.0\n",
      "Outbound_Stylish_Crossdock_1_DC1 = 130.0\n",
      "Outbound_Stylish_Crossdock_1_DC3 = 70.0\n",
      "Outbound_Stylish_Crossdock_2_DC2 = 45.0\n",
      "Outbound_Stylish_Crossdock_2_DC4 = 100.0\n",
      "Outbound_Stylish_Crossdock_2_DC5 = 5.0\n"
     ]
    }
   ],
   "source": [
    "# Output results\n",
    "if pulp.LpStatus[model.status] == \"Optimal\":\n",
    "    print(f\"Status: Optimal\")\n",
    "    print(f\"Total Cost: {pulp.value(model.objective)}\\n\")\n",
    "    print(\"-\" * 40)\n",
    "    print(\"\\nDecision Variable Values (non-zero):\")\n",
    "    for var in model.variables():\n",
    "        if var.varValue != 0:\n",
    "            print(f\"{var.name} = {var.varValue}\")\n",
    "else:\n",
    "    print(f\"Status: {pulp.LpStatus[model.status]}\")"
   ]
  }
 ],
 "metadata": {
  "kernelspec": {
   "display_name": "Python 3",
   "language": "python",
   "name": "python3"
  },
  "language_info": {
   "codemirror_mode": {
    "name": "ipython",
    "version": 3
   },
   "file_extension": ".py",
   "mimetype": "text/x-python",
   "name": "python",
   "nbconvert_exporter": "python",
   "pygments_lexer": "ipython3",
   "version": "3.12.2"
  }
 },
 "nbformat": 4,
 "nbformat_minor": 2
}
